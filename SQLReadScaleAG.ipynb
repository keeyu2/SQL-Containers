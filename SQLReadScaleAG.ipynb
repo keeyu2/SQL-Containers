{
    "metadata": {
        "kernelspec": {
            "name": "SQL",
            "display_name": "SQL",
            "language": "sql"
        },
        "language_info": {
            "name": "sql",
            "version": ""
        }
    },
    "nbformat_minor": 2,
    "nbformat": 4,
    "cells": [
        {
            "cell_type": "markdown",
            "source": [
                "Create master key\n",
                "create certificate\n",
                "backup master key and certificate"
            ],
            "metadata": {
                "azdata_cell_guid": "085abf13-431a-483e-b554-a5a47d77b514"
            }
        },
        {
            "cell_type": "code",
            "source": [
                "CREATE MASTER KEY ENCRYPTION BY PASSWORD = 'P@ssword01'\n",
                "CREATE CERTIFICATE sql_cert WITH SUBJECT ='sql1'\n",
                "BACKUP CERTIFICATE sql_cert TO FILE = '/var/opt/mssql/data/sql_cert.cer' \n",
                "WITH PRIVATE KEY (FILE = '/var/opt/mssql/data/privatekey.pvk', \n",
                "ENCRYPTION BY PASSWORD = 'P@ssword01')"
            ],
            "metadata": {
                "azdata_cell_guid": "09bbe502-9499-40bc-a671-8398bd371a21"
            },
            "outputs": [
                {
                    "output_type": "error",
                    "ename": "",
                    "evalue": "Msg 15578, Level 16, State 1, Line 1\nThere is already a master key in the database. Please drop it before performing this statement.",
                    "traceback": []
                },
                {
                    "output_type": "error",
                    "ename": "",
                    "evalue": "Msg 15232, Level 16, State 1, Line 2\nA certificate with name 'sql_cert' already exists or this certificate already has been added to the database.",
                    "traceback": []
                },
                {
                    "output_type": "error",
                    "ename": "",
                    "evalue": "Msg 15240, Level 16, State 1, Line 3\nCannot write into file '/var/opt/mssql/data/privatekey.pvk'. Verify that you have write permissions, that the file path is valid, and that the file does not already exist.",
                    "traceback": []
                },
                {
                    "output_type": "display_data",
                    "data": {
                        "text/html": "Total execution time: 00:00:00.052"
                    },
                    "metadata": {}
                }
            ],
            "execution_count": 10
        },
        {
            "cell_type": "markdown",
            "source": [
                "**Copy the cert and key to local drive using terminal execute the docker commands***\n",
                "\n",
                "sudo docker cp sql1:/var/opt/mssql/data/sql_cert.cer Documents\n",
                "\n",
                "sudo docker cp sql1:/var/opt/mssql/data/privatekey.pvk Documents"
            ],
            "metadata": {
                "azdata_cell_guid": "34c8453a-e979-41c3-bb3f-d7ed4f68dcee"
            }
        },
        {
            "cell_type": "code",
            "source": [
                "SELECT * FROM sys.certificates\n",
                "WHERE name = 'sql_cert'\n",
                ""
            ],
            "metadata": {
                "azdata_cell_guid": "ae19e974-af02-4a04-a150-4b749e5b828e"
            },
            "outputs": [
                {
                    "output_type": "display_data",
                    "data": {
                        "text/html": "(1 row affected)"
                    },
                    "metadata": {}
                },
                {
                    "output_type": "display_data",
                    "data": {
                        "text/html": "Total execution time: 00:00:00.022"
                    },
                    "metadata": {}
                },
                {
                    "output_type": "execute_result",
                    "execution_count": 2,
                    "data": {
                        "application/vnd.dataresource+json": {
                            "schema": {
                                "fields": [
                                    {
                                        "name": "name"
                                    },
                                    {
                                        "name": "certificate_id"
                                    },
                                    {
                                        "name": "principal_id"
                                    },
                                    {
                                        "name": "pvt_key_encryption_type"
                                    },
                                    {
                                        "name": "pvt_key_encryption_type_desc"
                                    },
                                    {
                                        "name": "is_active_for_begin_dialog"
                                    },
                                    {
                                        "name": "issuer_name"
                                    },
                                    {
                                        "name": "cert_serial_number"
                                    },
                                    {
                                        "name": "sid"
                                    },
                                    {
                                        "name": "string_sid"
                                    },
                                    {
                                        "name": "subject"
                                    },
                                    {
                                        "name": "expiry_date"
                                    },
                                    {
                                        "name": "start_date"
                                    },
                                    {
                                        "name": "thumbprint"
                                    },
                                    {
                                        "name": "attested_by"
                                    },
                                    {
                                        "name": "pvt_key_last_backup_date"
                                    },
                                    {
                                        "name": "key_length"
                                    }
                                ]
                            },
                            "data": [
                                {
                                    "0": "sql_cert",
                                    "1": "258",
                                    "2": "1",
                                    "3": "MK",
                                    "4": "ENCRYPTED_BY_MASTER_KEY",
                                    "5": "1",
                                    "6": "sql1",
                                    "7": "db d5 19 3e 42 25 91 51",
                                    "8": "0x01060000000000090100000027C46828C8C0E0D9502E0ECB336BB6B26172FC46",
                                    "9": "S-1-9-1-677954599-3655385288-3406704208-2998299443-1190949473",
                                    "10": "sql1",
                                    "11": "2021-05-26 00:14:28.000",
                                    "12": "2020-05-26 00:14:28.000",
                                    "13": "0x27C46828C8C0E0D9502E0ECB336BB6B26172FC46",
                                    "14": "NULL",
                                    "15": "2020-05-26 00:14:28.877",
                                    "16": "2048"
                                }
                            ]
                        },
                        "text/html": "<table><tr><th>name</th><th>certificate_id</th><th>principal_id</th><th>pvt_key_encryption_type</th><th>pvt_key_encryption_type_desc</th><th>is_active_for_begin_dialog</th><th>issuer_name</th><th>cert_serial_number</th><th>sid</th><th>string_sid</th><th>subject</th><th>expiry_date</th><th>start_date</th><th>thumbprint</th><th>attested_by</th><th>pvt_key_last_backup_date</th><th>key_length</th></tr><tr><td>sql_cert</td><td>258</td><td>1</td><td>MK</td><td>ENCRYPTED_BY_MASTER_KEY</td><td>1</td><td>sql1</td><td>db d5 19 3e 42 25 91 51</td><td>0x01060000000000090100000027C46828C8C0E0D9502E0ECB336BB6B26172FC46</td><td>S-1-9-1-677954599-3655385288-3406704208-2998299443-1190949473</td><td>sql1</td><td>2021-05-26 00:14:28.000</td><td>2020-05-26 00:14:28.000</td><td>0x27C46828C8C0E0D9502E0ECB336BB6B26172FC46</td><td>NULL</td><td>2020-05-26 00:14:28.877</td><td>2048</td></tr></table>"
                    },
                    "metadata": {}
                }
            ],
            "execution_count": 2
        },
        {
            "cell_type": "markdown",
            "source": [
                "**Copy cert to sql2 in terminal ~ run the command from backup\n",
                "\n",
                "sudo docker cp Documents/sql_cert.cer sql2:/var/opt/mssql/data/sql_cert.cer \n",
                "\n",
                "sudo docker cp Documents/privatekey.pvk sql2:/var/opt/mssql/data/privatekey.pvk \n",
                "\n",
                "Create a new certificate from backup\n",
                ""
            ],
            "metadata": {
                "azdata_cell_guid": "d6d813be-e2b0-4f32-ab96-9f47810041b6"
            }
        },
        {
            "cell_type": "code",
            "source": [
                "CREATE MASTER KEY ENCRYPTION BY PASSWORD = 'P@ssword01'\n",
                "CREATE CERTIFICATE sql_cert FROM FILE='/var/opt/mssql/data/sql_cert.cer' WITH\n",
                "PRIVATE KEY (FILE = '/var/opt/mssql/data/privatekey.pvk',\n",
                "DECRYPTION BY PASSWORD = 'P@ssword01')"
            ],
            "metadata": {
                "azdata_cell_guid": "ca5a3ef2-b7d0-4875-a9e4-6c5e78ad8e3d"
            },
            "outputs": [
                {
                    "output_type": "display_data",
                    "data": {
                        "text/html": "Commands completed successfully."
                    },
                    "metadata": {}
                },
                {
                    "output_type": "display_data",
                    "data": {
                        "text/html": "Total execution time: 00:00:00.045"
                    },
                    "metadata": {}
                }
            ],
            "execution_count": 5
        },
        {
            "cell_type": "code",
            "source": [
                "SELECT * FROM sys.certificates\n",
                "WHERE name = 'sql_cert'"
            ],
            "metadata": {
                "azdata_cell_guid": "ef0cbfdd-e05f-497a-9c43-34dc3d98df8b"
            },
            "outputs": [
                {
                    "output_type": "display_data",
                    "data": {
                        "text/html": "(1 row affected)"
                    },
                    "metadata": {}
                },
                {
                    "output_type": "display_data",
                    "data": {
                        "text/html": "Total execution time: 00:00:00.555"
                    },
                    "metadata": {}
                },
                {
                    "output_type": "execute_result",
                    "execution_count": 6,
                    "data": {
                        "application/vnd.dataresource+json": {
                            "schema": {
                                "fields": [
                                    {
                                        "name": "name"
                                    },
                                    {
                                        "name": "certificate_id"
                                    },
                                    {
                                        "name": "principal_id"
                                    },
                                    {
                                        "name": "pvt_key_encryption_type"
                                    },
                                    {
                                        "name": "pvt_key_encryption_type_desc"
                                    },
                                    {
                                        "name": "is_active_for_begin_dialog"
                                    },
                                    {
                                        "name": "issuer_name"
                                    },
                                    {
                                        "name": "cert_serial_number"
                                    },
                                    {
                                        "name": "sid"
                                    },
                                    {
                                        "name": "string_sid"
                                    },
                                    {
                                        "name": "subject"
                                    },
                                    {
                                        "name": "expiry_date"
                                    },
                                    {
                                        "name": "start_date"
                                    },
                                    {
                                        "name": "thumbprint"
                                    },
                                    {
                                        "name": "attested_by"
                                    },
                                    {
                                        "name": "pvt_key_last_backup_date"
                                    },
                                    {
                                        "name": "key_length"
                                    }
                                ]
                            },
                            "data": [
                                {
                                    "0": "sql_cert",
                                    "1": "258",
                                    "2": "1",
                                    "3": "MK",
                                    "4": "ENCRYPTED_BY_MASTER_KEY",
                                    "5": "1",
                                    "6": "sql1",
                                    "7": "db d5 19 3e 42 25 91 51",
                                    "8": "0x01060000000000090100000027C46828C8C0E0D9502E0ECB336BB6B26172FC46",
                                    "9": "S-1-9-1-677954599-3655385288-3406704208-2998299443-1190949473",
                                    "10": "sql1",
                                    "11": "2021-05-26 00:14:28.000",
                                    "12": "2020-05-26 00:14:28.000",
                                    "13": "0x27C46828C8C0E0D9502E0ECB336BB6B26172FC46",
                                    "14": "NULL",
                                    "15": "NULL",
                                    "16": "2048"
                                }
                            ]
                        },
                        "text/html": "<table><tr><th>name</th><th>certificate_id</th><th>principal_id</th><th>pvt_key_encryption_type</th><th>pvt_key_encryption_type_desc</th><th>is_active_for_begin_dialog</th><th>issuer_name</th><th>cert_serial_number</th><th>sid</th><th>string_sid</th><th>subject</th><th>expiry_date</th><th>start_date</th><th>thumbprint</th><th>attested_by</th><th>pvt_key_last_backup_date</th><th>key_length</th></tr><tr><td>sql_cert</td><td>258</td><td>1</td><td>MK</td><td>ENCRYPTED_BY_MASTER_KEY</td><td>1</td><td>sql1</td><td>db d5 19 3e 42 25 91 51</td><td>0x01060000000000090100000027C46828C8C0E0D9502E0ECB336BB6B26172FC46</td><td>S-1-9-1-677954599-3655385288-3406704208-2998299443-1190949473</td><td>sql1</td><td>2021-05-26 00:14:28.000</td><td>2020-05-26 00:14:28.000</td><td>0x27C46828C8C0E0D9502E0ECB336BB6B26172FC46</td><td>NULL</td><td>NULL</td><td>2048</td></tr></table>"
                    },
                    "metadata": {}
                }
            ],
            "execution_count": 6
        },
        {
            "cell_type": "markdown",
            "source": [
                "[]()Create a new Database on SQL Server\r\n",
                ""
            ],
            "metadata": {
                "azdata_cell_guid": "0b8849dc-46c1-473a-b1d6-386be91fec13"
            }
        },
        {
            "cell_type": "code",
            "source": [
                "CREATE DATABASE testdb\r\n",
                "ALTER DATABASE testdb SET RECOVERY FULL\r\n",
                "BACKUP DATABASE testdb TO DISK = N'/var/opt/mssql/data/testdb.bak';\r\n",
                "BACKUP LOG testdb TO DISK =  N'/var/opt/mssql/data/testdb_log.trn';"
            ],
            "metadata": {
                "azdata_cell_guid": "cf994add-8cf8-4a52-9ffc-91151ff0de27"
            },
            "outputs": [],
            "execution_count": null
        },
        {
            "cell_type": "markdown",
            "source": [
                "Create endpoint and start endpoint\n",
                ""
            ],
            "metadata": {
                "azdata_cell_guid": "54f61cc6-07f4-4fa5-848f-c830084a4755"
            }
        },
        {
            "cell_type": "code",
            "source": [
                "CREATE ENDPOINT hadr_endpoint\n",
                "AS TCP (LISTENER_PORT=5022)\n",
                "FOR DATABASE_MIRRORING (\n",
                "    ROLE = ALL,\n",
                "    AUTHENTICATION = CERTIFICATE sql_cert,\n",
                "    ENCRyPTION = REQUIRED ALGORITHM AES\n",
                ");\n",
                "ALTER ENDPOINT hadr_endpoint STATE = STARTED;"
            ],
            "metadata": {
                "azdata_cell_guid": "e079232f-18cc-4cbb-bd9f-74547e3af601"
            },
            "outputs": [
                {
                    "output_type": "display_data",
                    "data": {
                        "text/html": "Commands completed successfully."
                    },
                    "metadata": {}
                },
                {
                    "output_type": "display_data",
                    "data": {
                        "text/html": "Total execution time: 00:00:04.041"
                    },
                    "metadata": {}
                }
            ],
            "execution_count": 15
        },
        {
            "cell_type": "markdown",
            "source": [
                "CREATE AG USING CONTAINER ID"
            ],
            "metadata": {
                "azdata_cell_guid": "cc0d46d8-4cfc-4623-8512-a45a8b5c4880"
            }
        },
        {
            "cell_type": "code",
            "source": [
                "CREATE AVAILABILITY GROUP [ag1]\n",
                "    WITH (CLUSTER_TYPE = NONE)\n",
                "    FOR REPLICA ON\n",
                "        N'ENTER Container ID' WITH (\n",
                "            ENDPOINT_URL = N'tcp://ENTER Container ID:5022',\n",
                "\t\t    AVAILABILITY_MODE = ASYNCHRONOUS_COMMIT,\n",
                "\t\t    FAILOVER_MODE = MANUAL,\n",
                "\t\t    SEEDING_MODE = AUTOMATIC,\n",
                "                    SECONDARY_ROLE (ALLOW_CONNECTIONS = ALL)\n",
                "\t\t    ),\n",
                "        N'ENTER Container ID' WITH ( \n",
                "\t\t    ENDPOINT_URL = N'tcp://ENTER Container ID:5022', \n",
                "\t\t    AVAILABILITY_MODE = ASYNCHRONOUS_COMMIT,\n",
                "\t\t    FAILOVER_MODE = MANUAL,\n",
                "\t\t    SEEDING_MODE = AUTOMATIC,\n",
                "\t\t    SECONDARY_ROLE (ALLOW_CONNECTIONS = ALL)\n",
                "\t\t    );\n",
                "\t\t\n",
                "ALTER AVAILABILITY GROUP [ag1] GRANT CREATE ANY DATABASE;"
            ],
            "metadata": {
                "azdata_cell_guid": "90f24b26-e14e-45cd-91cd-78cedb750c9a"
            },
            "outputs": [
                {
                    "output_type": "display_data",
                    "data": {
                        "text/html": "Commands completed successfully."
                    },
                    "metadata": {}
                },
                {
                    "output_type": "display_data",
                    "data": {
                        "text/html": "Total execution time: 00:00:00.145"
                    },
                    "metadata": {}
                }
            ],
            "execution_count": 17
        },
        {
            "cell_type": "markdown",
            "source": [
                "JOIN SECONDARY node to AG1"
            ],
            "metadata": {
                "azdata_cell_guid": "cf7d4d2b-8967-43e3-8067-e4d94f6417e4"
            }
        },
        {
            "cell_type": "code",
            "source": [
                "ALTER AVAILABILITY GROUP [ag1] JOIN WITH (CLUSTER_TYPE = NONE);\n",
                "\t\t \n",
                "ALTER AVAILABILITY GROUP [ag1] GRANT CREATE ANY DATABASE;\n",
                ""
            ],
            "metadata": {
                "azdata_cell_guid": "11e27145-5e30-4676-be5d-13198a8bd000"
            },
            "outputs": [
                {
                    "output_type": "display_data",
                    "data": {
                        "text/html": "Commands completed successfully."
                    },
                    "metadata": {}
                },
                {
                    "output_type": "display_data",
                    "data": {
                        "text/html": "Total execution time: 00:00:13.796"
                    },
                    "metadata": {}
                }
            ],
            "execution_count": 18
        },
        {
            "cell_type": "markdown",
            "source": [
                "Add database to AG1"
            ],
            "metadata": {
                "azdata_cell_guid": "5376aa00-61fc-4533-84d0-715c343a002e"
            }
        },
        {
            "cell_type": "code",
            "source": [
                "ALTER AVAILABILITY GROUP [ag1] ADD DATABASE [testdb];"
            ],
            "metadata": {
                "azdata_cell_guid": "4db10f6d-5813-4e28-b87a-2ec9fc918601"
            },
            "outputs": [
                {
                    "output_type": "display_data",
                    "data": {
                        "text/html": "Commands completed successfully."
                    },
                    "metadata": {}
                },
                {
                    "output_type": "display_data",
                    "data": {
                        "text/html": "Total execution time: 00:00:00.221"
                    },
                    "metadata": {}
                }
            ],
            "execution_count": 3
        },
        {
            "cell_type": "code",
            "source": [
                "USE testdb;\n",
                "CREATE TABLE testtable\n",
                "(id int primary key clustered,\n",
                "fname varchar(20),\n",
                "lname varchar(20))"
            ],
            "metadata": {
                "azdata_cell_guid": "bb5edfa0-b3b4-478f-8596-a6b5cb41ada4"
            },
            "outputs": [
                {
                    "output_type": "display_data",
                    "data": {
                        "text/html": "Commands completed successfully."
                    },
                    "metadata": {}
                },
                {
                    "output_type": "display_data",
                    "data": {
                        "text/html": "Total execution time: 00:00:00.088"
                    },
                    "metadata": {}
                }
            ],
            "execution_count": 4
        }
    ]
}